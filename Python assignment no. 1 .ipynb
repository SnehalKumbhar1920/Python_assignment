{
 "cells": [
  {
   "cell_type": "markdown",
   "id": "c84a58fb",
   "metadata": {},
   "source": [
    "\n",
    "\n",
    "\n",
    "\n"
   ]
  },
  {
   "cell_type": "markdown",
   "id": "2fa8b8ad",
   "metadata": {},
   "source": [
    "1. In the below elements which of them are values or an expression? eg:- values can be integer or string and expressions will be mathematical operators.\n",
    "\n",
    "*         -  expression\n",
    "'hello'   -  value\n",
    "-87.8     -  value\n",
    "-         -  expression\n",
    "/         -  value\n",
    "+\t      -  expression\n",
    "6         -  value\n"
   ]
  },
  {
   "cell_type": "markdown",
   "id": "4cce7894",
   "metadata": {},
   "source": [
    "2. What is the difference between string and variable?\n",
    "\n",
    "Ans. variable - 1. In Python, a variable is a named location used to store data in memory.\n",
    "                2. We can start variable name using underscore( _ ) \n",
    "                3. variable name can be a combination of uppercase, lowercase, digits and underscore.\n",
    "                4. We can not start variable name using number.\n",
    "                \n",
    "     String   - 1. Strings in Python are sequences of character data. \n",
    "                2. They are created by enclosing characters in quotes.\n",
    "                \n",
    "               "
   ]
  },
  {
   "cell_type": "markdown",
   "id": "9474c3d6",
   "metadata": {},
   "source": [
    "3. Describe three different data types.\n",
    "Ans. String, integer and float are the three data types.\n",
    "     \n",
    "     1. String  -  Strings in Python are sequences of character data.They are created by enclosing \n",
    "                   characters in quotes. \n",
    "     \n",
    "     2. Integers - Integers are whole numbers, without a fractional component. \n",
    "                   They can be positive or negative.\n",
    "                  \n",
    "     3. Floats   - Floats represent real numbers and are written with a decimal point.\n",
    "     "
   ]
  },
  {
   "cell_type": "code",
   "execution_count": 6,
   "id": "c077fd8f",
   "metadata": {},
   "outputs": [
    {
     "name": "stdout",
     "output_type": "stream",
     "text": [
      "Hello, world\n",
      "15\n",
      "35.78\n"
     ]
    }
   ],
   "source": [
    "# Example of string\n",
    "S = \"Hello, world\"\n",
    "print(S)\n",
    "\n",
    "# Example of integer\n",
    "a = 15\n",
    "print(a)\n",
    "\n",
    "# Example of float\n",
    "b = 35.78\n",
    "print(b)    "
   ]
  },
  {
   "cell_type": "code",
   "execution_count": 13,
   "id": "2862b360",
   "metadata": {},
   "outputs": [
    {
     "data": {
      "text/plain": [
       "str"
      ]
     },
     "execution_count": 13,
     "metadata": {},
     "output_type": "execute_result"
    }
   ],
   "source": [
    "type(S)"
   ]
  },
  {
   "cell_type": "code",
   "execution_count": 11,
   "id": "6d5f4091",
   "metadata": {},
   "outputs": [
    {
     "data": {
      "text/plain": [
       "int"
      ]
     },
     "execution_count": 11,
     "metadata": {},
     "output_type": "execute_result"
    }
   ],
   "source": [
    "type(a)"
   ]
  },
  {
   "cell_type": "code",
   "execution_count": 12,
   "id": "d81cc01c",
   "metadata": {},
   "outputs": [
    {
     "data": {
      "text/plain": [
       "float"
      ]
     },
     "execution_count": 12,
     "metadata": {},
     "output_type": "execute_result"
    }
   ],
   "source": [
    "type(b)"
   ]
  },
  {
   "cell_type": "markdown",
   "id": "3466135c",
   "metadata": {},
   "source": [
    "4.   What is an expression made up of? What do all expressions do?\n",
    "Ans. A combination of operands and operators is called an expression. The expression in \n",
    "     Python produces some value or result after being interpreted by the Python interpreter."
   ]
  },
  {
   "cell_type": "code",
   "execution_count": 14,
   "id": "2d993ac0",
   "metadata": {},
   "outputs": [
    {
     "name": "stdout",
     "output_type": "stream",
     "text": [
      "15\n"
     ]
    }
   ],
   "source": [
    "# example\n",
    "p = 5 \n",
    "q = 10\n",
    "r = p + q \n",
    "print(r)\n",
    "# here r = p + q is an expression."
   ]
  },
  {
   "cell_type": "markdown",
   "id": "6106721f",
   "metadata": {},
   "source": [
    "5.   This assignment statements, like spam = 10. What is the difference between an expression and a statement?\n",
    "Ans. \n",
    "     Expression- A combination of operands and operators is called an expression. The expression in \n",
    "        Python produces some value or result after being interpreted by the Python interpreter. \n",
    "     \n",
    "     Statement- A statement in Python is a logical instruction that the Python interpreter can read and execute. \n",
    "        In general, a statement performs some action or action."
   ]
  },
  {
   "cell_type": "markdown",
   "id": "6007e85f",
   "metadata": {},
   "source": [
    "6. After running the following code, what does the variable bacon contain?\n",
    "bacon = 22\n",
    "bacon + 1\n",
    "Ans. The variable bacon contains 23"
   ]
  },
  {
   "cell_type": "code",
   "execution_count": 20,
   "id": "1bfc2a50",
   "metadata": {},
   "outputs": [
    {
     "name": "stdout",
     "output_type": "stream",
     "text": [
      "23\n"
     ]
    }
   ],
   "source": [
    "bacon = 22\n",
    "bacon += 1\n",
    "print(bacon)"
   ]
  },
  {
   "cell_type": "markdown",
   "id": "49de2626",
   "metadata": {},
   "source": [
    "7. What should the values of the following two terms be?\n",
    "'spam' + 'spamspam'\n",
    "'spam' * 3\n",
    "\n"
   ]
  },
  {
   "cell_type": "code",
   "execution_count": 1,
   "id": "87ac6038",
   "metadata": {},
   "outputs": [
    {
     "data": {
      "text/plain": [
       "'spamspamsapm'"
      ]
     },
     "execution_count": 1,
     "metadata": {},
     "output_type": "execute_result"
    }
   ],
   "source": [
    "'spam' + 'spamsapm'"
   ]
  },
  {
   "cell_type": "code",
   "execution_count": 2,
   "id": "cfecb60b",
   "metadata": {},
   "outputs": [
    {
     "data": {
      "text/plain": [
       "'spamspamspam'"
      ]
     },
     "execution_count": 2,
     "metadata": {},
     "output_type": "execute_result"
    }
   ],
   "source": [
    "'spam' * 3"
   ]
  },
  {
   "cell_type": "markdown",
   "id": "8e6fa15a",
   "metadata": {},
   "source": [
    "8.   Why is eggs a valid variable name while 100 is invalid?\n",
    "Ans. A variable name cannot start with a number. Variable can consist letters . Therefore eggs is a valid variable name while        100 is invalid.\n"
   ]
  },
  {
   "cell_type": "markdown",
   "id": "5d79fbe2",
   "metadata": {},
   "source": [
    "9.   What three functions can be used to get the integer, floating-point number, or string version of a value?\n",
    "Ans. The int() , float() , and str( ) functions will evaluate to the integer, floating-point number, and string versions of the      value passed to them."
   ]
  },
  {
   "cell_type": "markdown",
   "id": "eb6e90d4",
   "metadata": {},
   "source": [
    "10. Why does this expression cause an error? How can you fix it?\n",
    "    'I have eaten ' + 99 + ' burritos.'\n",
    "Ans. The expression causes an error because 99 is an integer, and only strings can be concatenated to other strings with the +        operator. The correct way is 'I have eaten ' + str(99) + ' burritos. '. \n"
   ]
  },
  {
   "cell_type": "code",
   "execution_count": 5,
   "id": "b0358bcb",
   "metadata": {},
   "outputs": [
    {
     "data": {
      "text/plain": [
       "'I have eaten 99 burriots.'"
      ]
     },
     "execution_count": 5,
     "metadata": {},
     "output_type": "execute_result"
    }
   ],
   "source": [
    "'I have eaten ' + str(99) + ' burriots.'"
   ]
  }
 ],
 "metadata": {
  "kernelspec": {
   "display_name": "Python 3 (ipykernel)",
   "language": "python",
   "name": "python3"
  },
  "language_info": {
   "codemirror_mode": {
    "name": "ipython",
    "version": 3
   },
   "file_extension": ".py",
   "mimetype": "text/x-python",
   "name": "python",
   "nbconvert_exporter": "python",
   "pygments_lexer": "ipython3",
   "version": "3.10.9"
  }
 },
 "nbformat": 4,
 "nbformat_minor": 5
}
