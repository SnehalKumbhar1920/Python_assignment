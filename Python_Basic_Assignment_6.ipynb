{
  "nbformat": 4,
  "nbformat_minor": 0,
  "metadata": {
    "colab": {
      "provenance": []
    },
    "kernelspec": {
      "name": "python3",
      "display_name": "Python 3"
    },
    "language_info": {
      "name": "python"
    }
  },
  "cells": [
    {
      "cell_type": "code",
      "execution_count": null,
      "metadata": {
        "id": "dr48k5gV6YpU"
      },
      "outputs": [],
      "source": []
    },
    {
      "cell_type": "markdown",
      "source": [
        "###Q.1. What are keywords in python? Using the keyword library, print all the python keywords.\n",
        "\n",
        "Keywords in Python are reserved words that have specific meanings and cannot be used as variable names, function names, or any other identifier."
      ],
      "metadata": {
        "id": "N6ewKH2n6qiK"
      }
    },
    {
      "cell_type": "code",
      "source": [
        "import keyword\n",
        "\n",
        "print(\"Python keywords:\")\n",
        "print(keyword.kwlist)"
      ],
      "metadata": {
        "colab": {
          "base_uri": "https://localhost:8080/"
        },
        "id": "ImjzkXiX69ed",
        "outputId": "be16f181-6308-42e2-d6ea-3e31d220b852"
      },
      "execution_count": 1,
      "outputs": [
        {
          "output_type": "stream",
          "name": "stdout",
          "text": [
            "Python keywords:\n",
            "['False', 'None', 'True', 'and', 'as', 'assert', 'async', 'await', 'break', 'class', 'continue', 'def', 'del', 'elif', 'else', 'except', 'finally', 'for', 'from', 'global', 'if', 'import', 'in', 'is', 'lambda', 'nonlocal', 'not', 'or', 'pass', 'raise', 'return', 'try', 'while', 'with', 'yield']\n"
          ]
        }
      ]
    },
    {
      "cell_type": "markdown",
      "source": [
        "###Q.2. What are the rules to create variables in python?\n",
        "\n",
        "1.Start with a letter or underscore: Variable names must begin with a letter (a-z, A-Z) or an underscore (_).  They cannot start with a digit.\n",
        "\n",
        "2.Letters, underscores, or digits: The rest of the variable name can consist of letters, underscores, or digits (0-9).\n",
        "\n",
        "3.Case-sensitive: Variable names are case-sensitive.  myVar, MyVar, and MYVAR are three distinct variables.\n",
        "\n",
        "4.No keywords:  You cannot use Python keywords (like if, else, for, while, def, return, etc.) as variable names.  This will result in a SyntaxError."
      ],
      "metadata": {
        "id": "-fyMgHGS7LYR"
      }
    },
    {
      "cell_type": "markdown",
      "source": [
        "###Q.3. What are the standards and conventions followed for the nomenclature of variables in\n",
        "python to improve code readability and maintainability?\n",
        "\n",
        "1.Descriptive Names: Choose names that clearly indicate the variable's purpose.  A well-named variable makes your code self-documenting.  Avoid overly short or cryptic names unless their meaning is absolutely clear from the context (e.g., loop counters i, j, k).\n",
        "\n",
        "2.Snake Case:  Use snake_case for variable names.  This means separating words with underscores.  It improves readability, especially for longer names.\n",
        "\n",
        "3.Consistency: Be consistent with your naming conventions throughout your codebase.  Don't mix snake_case with other styles.\n",
        "\n",
        "4.Meaningful Abbreviations:  Use abbreviations sparingly, and only when they are widely understood or clearly defined within the project.  Avoid abbreviations that could be ambiguous.\n",
        "\n",
        "5.Avoid Single-Character Names:  Except for very simple loop counters (like i, j, k), avoid single-character variable names.  They make your code harder to understand.\n",
        "\n",
        "6.Constants: For constants (values that should not be changed), use uppercase letters with underscores.\n",
        "\n",
        "\n",
        "7.Module and Package Names:  Use short, lowercase names for modules and packages.  Underscores can be used to improve readability if needed.\n",
        "\n",
        "8.Class Names: Use PascalCase (also known as CapWords) for class names.  This means capitalizing the first letter of each word and not using underscores.\n",
        "\n",
        "9.Function and Method Names: Use snake_case for function and method names, just like variables.\n",
        "\n"
      ],
      "metadata": {
        "id": "lA5ADTNQ7rqO"
      }
    },
    {
      "cell_type": "markdown",
      "source": [
        "###Q.4. What will happen if a keyword is used as a variable name?\n",
        "\n",
        "If a keyword is used as a variable name in Python, we will get a SyntaxError.  The Python interpreter recognizes keywords as reserved words with specific meanings within the language's grammar.  It won't allow us to redefine them by assigning a value to them as a variable."
      ],
      "metadata": {
        "id": "0_FYYNXM9hVL"
      }
    },
    {
      "cell_type": "code",
      "source": [
        "if = 10  # This will cause a SyntaxError\n",
        "\n",
        "print(if)"
      ],
      "metadata": {
        "colab": {
          "base_uri": "https://localhost:8080/",
          "height": 106
        },
        "id": "-d_8bOsW-5Jw",
        "outputId": "cddcdfc7-0f98-462e-992d-a016c7fcea79"
      },
      "execution_count": 2,
      "outputs": [
        {
          "output_type": "error",
          "ename": "SyntaxError",
          "evalue": "invalid syntax (<ipython-input-2-a4853d5a8d3d>, line 1)",
          "traceback": [
            "\u001b[0;36m  File \u001b[0;32m\"<ipython-input-2-a4853d5a8d3d>\"\u001b[0;36m, line \u001b[0;32m1\u001b[0m\n\u001b[0;31m    if = 10  # This will cause a SyntaxError\u001b[0m\n\u001b[0m       ^\u001b[0m\n\u001b[0;31mSyntaxError\u001b[0m\u001b[0;31m:\u001b[0m invalid syntax\n"
          ]
        }
      ]
    },
    {
      "cell_type": "markdown",
      "source": [
        "###Q.5. For what purpose def keyword is used?\n",
        "\n",
        "The def keyword in Python is used to define (or create) a function.  Functions are reusable blocks of code that perform specific tasks.  They help organize your code, make it more modular, and avoid repetition.\n",
        "\n",
        "\n"
      ],
      "metadata": {
        "id": "UBOLja0m-xpL"
      }
    },
    {
      "cell_type": "code",
      "source": [
        "def function_name(parameters):\n",
        "    return value"
      ],
      "metadata": {
        "id": "QCtdDHBt_jNU"
      },
      "execution_count": 3,
      "outputs": []
    },
    {
      "cell_type": "markdown",
      "source": [
        "###Q.6. What is the operation of this special character ‘\\’?\n",
        "\n",
        "The backslash (\\) in Python is an escape character. It's used to represent characters that are difficult to type directly or have special meanings within strings.  It allows us to include these special characters in strings.\n",
        "\n",
        "We can use a backslash at the end of a line to indicate that the statement continues on the next line.  This is useful for long lines of code to improve readability.\n",
        "\n",
        "\n",
        "\n"
      ],
      "metadata": {
        "id": "CGU7QQUq_zqG"
      }
    },
    {
      "cell_type": "code",
      "source": [
        "print(\"Hello\\nWorld\")"
      ],
      "metadata": {
        "colab": {
          "base_uri": "https://localhost:8080/"
        },
        "id": "2OZcUAXXAoGc",
        "outputId": "f2ce270d-be14-45e9-8127-9c144866ed5a"
      },
      "execution_count": 4,
      "outputs": [
        {
          "output_type": "stream",
          "name": "stdout",
          "text": [
            "Hello\n",
            "World\n"
          ]
        }
      ]
    },
    {
      "cell_type": "markdown",
      "source": [
        "###Q.7. Give an example of the following conditions:\n",
        "(i) Homogeneous list\n",
        "(ii) Heterogeneous set\n",
        "(iii) Homogeneous tuple\n"
      ],
      "metadata": {
        "id": "vyIsHyaeBAZK"
      }
    },
    {
      "cell_type": "code",
      "source": [
        "# (i) Homogeneous list:\n",
        "homogeneous_list = [1, 2, 3, 4, 5]  # All elements are integers\n",
        "\n",
        "# (ii) Heterogeneous set:\n",
        "heterogeneous_set = {1, \"hello\", 3.14, True}  # Elements have different data types\n",
        "\n",
        "# (iii) Homogeneous tuple:\n",
        "homogeneous_tuple = (\"apple\", \"banana\", \"cherry\")  # All elements are strings\n",
        "\n",
        "\n"
      ],
      "metadata": {
        "id": "4dqsHCOFBcoH"
      },
      "execution_count": 5,
      "outputs": []
    },
    {
      "cell_type": "markdown",
      "source": [
        "###Q.8. Explain the mutable and immutable data types with proper explanation & examples.\n",
        "\n",
        "###Mutable Data Types:\n",
        "\n",
        "Mutable data types are those whose values can be modified after the object is created.  Changes are made directly to the original object in memory.  This means that if you have multiple variables referring to the same mutable object, changes made through one variable will be reflected when you access the object through other variables as well.\n",
        "\n",
        "List: Lists are ordered, mutable sequences of elements. You can add, remove, or change elements within a list.\n",
        "\n",
        "Dictionary: Dictionaries are unordered collections of key-value pairs. You can add, remove, or modify key-value pairs.\n",
        "\n",
        "Set: Sets are unordered collections of unique elements. You can add or remove elements.\n",
        "\n",
        "###Immutable Data Types:\n",
        "\n",
        "Immutable data types are those whose values cannot be changed after the object is created.  If you try to modify an immutable object, a new object is created in memory with the changed value, and the original object remains unchanged.  Variables referring to the original object will still point to the original value.\n",
        "\n",
        "Integer: Integers are immutable.\n",
        "\n",
        "Float: Floating-point numbers are immutable.\n",
        "\n",
        "String: Strings are immutable sequences of characters. You cannot change individual characters within a string.  Any operation that seems to modify a string actually creates a new string.\n",
        "\n",
        "Tuple: Tuples are ordered, immutable sequences of elements.  Once a tuple is created, you cannot change its elements.\n"
      ],
      "metadata": {
        "id": "csdIcULIBosP"
      }
    },
    {
      "cell_type": "markdown",
      "source": [
        "###Q.9. Write a code to create the given structure using only for loop.\n",
        "\n",
        "*\n",
        "\n",
        "***\n",
        "\n",
        "*****\n",
        "\n",
        "*******\n",
        "\n",
        "*********"
      ],
      "metadata": {
        "id": "O-RkRYwuCyQi"
      }
    },
    {
      "cell_type": "code",
      "source": [
        "n = 5  # Number of rows (adjust as needed)\n",
        "\n",
        "for i in range(1, n + 1):\n",
        "    print(\"*\" * (2 * i - 1))"
      ],
      "metadata": {
        "colab": {
          "base_uri": "https://localhost:8080/"
        },
        "id": "2vOBqidHApzG",
        "outputId": "88533413-10e5-4467-82e0-84da5dc46a92"
      },
      "execution_count": 6,
      "outputs": [
        {
          "output_type": "stream",
          "name": "stdout",
          "text": [
            "*\n",
            "***\n",
            "*****\n",
            "*******\n",
            "*********\n"
          ]
        }
      ]
    },
    {
      "cell_type": "markdown",
      "source": [
        "###Q.10. Write a code to create the given structure using while loop.\n",
        "|||||||||\n",
        " |||||||\n",
        "  |||||\n",
        "   |||\n",
        "    |"
      ],
      "metadata": {
        "id": "NC5Hd6K9DZHl"
      }
    },
    {
      "cell_type": "code",
      "source": [
        "n = 5  # Number of rows (adjust as needed)\n",
        "\n",
        "i = n\n",
        "while i >= 1:\n",
        "    spaces = \" \" * (n - i)  # Calculate leading spaces\n",
        "    bars = \"|\" * (2 * i - 1)   # Calculate number of bars\n",
        "    print(spaces + bars)      # Print spaces and bars\n",
        "    i -= 1                    # Decrement row counter"
      ],
      "metadata": {
        "colab": {
          "base_uri": "https://localhost:8080/"
        },
        "id": "dfpRMnlGDxEN",
        "outputId": "063b29ec-b547-47da-d143-f9f74aa7ab84"
      },
      "execution_count": 7,
      "outputs": [
        {
          "output_type": "stream",
          "name": "stdout",
          "text": [
            "|||||||||\n",
            " |||||||\n",
            "  |||||\n",
            "   |||\n",
            "    |\n"
          ]
        }
      ]
    },
    {
      "cell_type": "code",
      "source": [],
      "metadata": {
        "id": "KnmHw2voDHKq"
      },
      "execution_count": null,
      "outputs": []
    }
  ]
}