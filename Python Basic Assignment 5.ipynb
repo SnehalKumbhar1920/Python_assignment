{
  "nbformat": 4,
  "nbformat_minor": 0,
  "metadata": {
    "colab": {
      "provenance": []
    },
    "kernelspec": {
      "name": "python3",
      "display_name": "Python 3"
    },
    "language_info": {
      "name": "python"
    }
  },
  "cells": [
    {
      "cell_type": "markdown",
      "metadata": {
        "id": "ITnJjTCylZpr"
      },
      "source": [
        "**Python Basics 5**"
      ]
    },
    {
      "cell_type": "markdown",
      "metadata": {
        "id": "Mlwq8ITHln7g"
      },
      "source": [
        "1. What does an empty dictionary's code look like?"
      ]
    },
    {
      "cell_type": "code",
      "metadata": {
        "colab": {
          "base_uri": "https://localhost:8080/"
        },
        "id": "_ZeoW5KHk47D",
        "outputId": "daaf8f63-e8fd-4653-80ca-f12bfd7d3f3f"
      },
      "source": [
        "dict = {}\n",
        "type(dict)"
      ],
      "execution_count": 1,
      "outputs": [
        {
          "output_type": "execute_result",
          "data": {
            "text/plain": [
              "dict"
            ]
          },
          "metadata": {},
          "execution_count": 1
        }
      ]
    },
    {
      "cell_type": "markdown",
      "metadata": {
        "id": "D6GvSy97mbEb"
      },
      "source": [
        "2. What is the value of a dictionary value with the key 'foo' and the value 42?"
      ]
    },
    {
      "cell_type": "code",
      "metadata": {
        "colab": {
          "base_uri": "https://localhost:8080/"
        },
        "id": "_z554b5OmfQ7",
        "outputId": "d42613e6-f5c0-4012-b715-d0d2c2b16c01"
      },
      "source": [
        "{'foo':42}\n"
      ],
      "execution_count": 2,
      "outputs": [
        {
          "output_type": "execute_result",
          "data": {
            "text/plain": [
              "{'foo': 42}"
            ]
          },
          "metadata": {},
          "execution_count": 2
        }
      ]
    },
    {
      "cell_type": "markdown",
      "metadata": {
        "id": "viH5obB1lX7K"
      },
      "source": [
        "3. What is the most significant distinction between a dictionary and a list?"
      ]
    },
    {
      "cell_type": "markdown",
      "metadata": {
        "id": "uNf7WkVVmpWU"
      },
      "source": [
        "Most significant difference: <br>\n",
        "    List: Elements in a list are accessed by their position or index, which is a number starting from 0. Think of it like a numbered list where each item has a specific place.\n",
        "    \n",
        "\n",
        "Dictionary: Elements in a dictionary are accessed by their key, which can be a word, number, or symbol. Imagine a real-world dictionary where you look up a word (the key) to find its definition (the value)."
      ]
    },
    {
      "cell_type": "markdown",
      "metadata": {
        "id": "UqWVUifCm1Jm"
      },
      "source": [
        "4. What happens if you try to access spam['foo'] if spam is {'bar': 100}?"
      ]
    },
    {
      "cell_type": "code",
      "metadata": {
        "colab": {
          "base_uri": "https://localhost:8080/",
          "height": 176
        },
        "id": "aNGnveVcmk30",
        "outputId": "8248f687-0e93-4fbd-82cf-df86cf397f16"
      },
      "source": [
        "\n",
        "spam = {'bar':100}\n",
        "spam['foo']\n",
        "#This will give us key error"
      ],
      "execution_count": 3,
      "outputs": [
        {
          "output_type": "error",
          "ename": "KeyError",
          "evalue": "'foo'",
          "traceback": [
            "\u001b[0;31m---------------------------------------------------------------------------\u001b[0m",
            "\u001b[0;31mKeyError\u001b[0m                                  Traceback (most recent call last)",
            "\u001b[0;32m<ipython-input-3-3d68fc6babd3>\u001b[0m in \u001b[0;36m<cell line: 0>\u001b[0;34m()\u001b[0m\n\u001b[1;32m      1\u001b[0m \u001b[0mspam\u001b[0m \u001b[0;34m=\u001b[0m \u001b[0;34m{\u001b[0m\u001b[0;34m'bar'\u001b[0m\u001b[0;34m:\u001b[0m\u001b[0;36m100\u001b[0m\u001b[0;34m}\u001b[0m\u001b[0;34m\u001b[0m\u001b[0;34m\u001b[0m\u001b[0m\n\u001b[0;32m----> 2\u001b[0;31m \u001b[0mspam\u001b[0m\u001b[0;34m[\u001b[0m\u001b[0;34m'foo'\u001b[0m\u001b[0;34m]\u001b[0m\u001b[0;34m\u001b[0m\u001b[0;34m\u001b[0m\u001b[0m\n\u001b[0m\u001b[1;32m      3\u001b[0m \u001b[0;31m#This will give us key error\u001b[0m\u001b[0;34m\u001b[0m\u001b[0;34m\u001b[0m\u001b[0m\n",
            "\u001b[0;31mKeyError\u001b[0m: 'foo'"
          ]
        }
      ]
    },
    {
      "cell_type": "markdown",
      "metadata": {
        "id": "vbu45XksnUt5"
      },
      "source": [
        "\n",
        "5. If a dictionary is stored in spam, what is the difference between the expressions 'cat' in spam and 'cat' in spam.keys()?"
      ]
    },
    {
      "cell_type": "code",
      "source": [],
      "metadata": {
        "id": "cko8E7o30tXn"
      },
      "execution_count": null,
      "outputs": []
    },
    {
      "cell_type": "code",
      "metadata": {
        "colab": {
          "base_uri": "https://localhost:8080/"
        },
        "id": "YEFzllnhm7su",
        "outputId": "3fd14a7a-e70d-445b-8fb2-5fb4249fd0cb"
      },
      "source": [
        "spam ={'cat':100}\n",
        "'cat' in spam"
      ],
      "execution_count": 4,
      "outputs": [
        {
          "output_type": "execute_result",
          "data": {
            "text/plain": [
              "True"
            ]
          },
          "metadata": {},
          "execution_count": 4
        }
      ]
    },
    {
      "cell_type": "code",
      "metadata": {
        "colab": {
          "base_uri": "https://localhost:8080/"
        },
        "id": "i27uorfOntAE",
        "outputId": "f2c9431f-93b5-4189-a145-e4e1928d07cc"
      },
      "source": [
        "'cat' in spam.keys()\n",
        "#There is no differnce, both check if 'cat' is key of the dictionary and if its a key, returns True."
      ],
      "execution_count": 6,
      "outputs": [
        {
          "output_type": "execute_result",
          "data": {
            "text/plain": [
              "True"
            ]
          },
          "metadata": {},
          "execution_count": 6
        }
      ]
    },
    {
      "cell_type": "markdown",
      "metadata": {
        "id": "XVR0XMvXn6HL"
      },
      "source": [
        "\n",
        "6. If a dictionary is stored in spam, what is the difference between the expressions 'cat' in spam and 'cat' in spam.values()?"
      ]
    },
    {
      "cell_type": "code",
      "metadata": {
        "colab": {
          "base_uri": "https://localhost:8080/"
        },
        "id": "m_6ZtEiWnu7p",
        "outputId": "de064865-b64e-4269-885f-1bd24d95f798"
      },
      "source": [
        "spam ={'cat':100}\n",
        "'cat' in spam"
      ],
      "execution_count": 7,
      "outputs": [
        {
          "output_type": "execute_result",
          "data": {
            "text/plain": [
              "True"
            ]
          },
          "metadata": {},
          "execution_count": 7
        }
      ]
    },
    {
      "cell_type": "code",
      "metadata": {
        "colab": {
          "base_uri": "https://localhost:8080/"
        },
        "id": "VnZO7b4mn9PT",
        "outputId": "e3f0fcf7-25d7-4e71-be97-d724a9937bc2"
      },
      "source": [
        "spam ={'cat':100}\n",
        "'cat' in spam.values()\n",
        "\n",
        "#'cat' in spam checks whether there is a 'cat' key in the dictionary\n",
        "#'cat' in spam.values() checks whether there is a value 'cat' for one of the keys in spam."
      ],
      "execution_count": 8,
      "outputs": [
        {
          "output_type": "execute_result",
          "data": {
            "text/plain": [
              "False"
            ]
          },
          "metadata": {},
          "execution_count": 8
        }
      ]
    },
    {
      "cell_type": "markdown",
      "metadata": {
        "id": "69677woNoFf0"
      },
      "source": [
        "7. What is a shortcut for the following code?"
      ]
    },
    {
      "cell_type": "code",
      "metadata": {
        "colab": {
          "base_uri": "https://localhost:8080/"
        },
        "id": "7OrXfRPfn-yL",
        "outputId": "578b58a6-4688-4d88-e882-c928686a6141"
      },
      "source": [
        "spam ={'cat':100}\n",
        "spam.setdefault('color','black')\n",
        "spam\n"
      ],
      "execution_count": 9,
      "outputs": [
        {
          "output_type": "execute_result",
          "data": {
            "text/plain": [
              "{'cat': 100, 'color': 'black'}"
            ]
          },
          "metadata": {},
          "execution_count": 9
        }
      ]
    },
    {
      "cell_type": "markdown",
      "metadata": {
        "id": "qhhOZRE7oWG6"
      },
      "source": [
        "8. How do you 'pretty print' dictionary values using which module and function?"
      ]
    },
    {
      "cell_type": "code",
      "metadata": {
        "id": "wZuxoeFQoJhI"
      },
      "source": [
        "import pprint\n",
        "\n",
        "my_dict = {\n",
        "    \"name\": \"Bob\",\n",
        "    \"age\": 25,\n",
        "    \"city\": \"London\"\n",
        "}"
      ],
      "execution_count": 10,
      "outputs": []
    },
    {
      "cell_type": "code",
      "metadata": {
        "colab": {
          "base_uri": "https://localhost:8080/"
        },
        "id": "T1XiGRfooxpN",
        "outputId": "46b37aa8-8a47-4d54-f767-989b92bbb835"
      },
      "source": [
        "# printing with pprint()\n",
        "pprint.pprint(my_dict)"
      ],
      "execution_count": 11,
      "outputs": [
        {
          "output_type": "stream",
          "name": "stdout",
          "text": [
            "{'age': 25, 'city': 'London', 'name': 'Bob'}\n"
          ]
        }
      ]
    },
    {
      "cell_type": "code",
      "metadata": {
        "id": "wtwguoujo2M0"
      },
      "source": [],
      "execution_count": 13,
      "outputs": []
    },
    {
      "cell_type": "code",
      "metadata": {
        "id": "UrJk6JfMo61Q"
      },
      "source": [],
      "execution_count": 13,
      "outputs": []
    }
  ]
}